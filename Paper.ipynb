{
 "cells": [
  {
   "cell_type": "markdown",
   "metadata": {},
   "source": [
    "# Line Follower Robot with a PID Neural Network Controller\n",
    "### Competencia Robotica USM\n",
    "#### Authors:\n",
    "* Francisco Lara\n",
    "* Sergio Faundez\n",
    "* Matia Cornejo"
   ]
  },
  {
   "cell_type": "markdown",
   "metadata": {},
   "source": [
    "### _Abstract:_\n",
    "This paper presents a PID controller synthesis where its parameters are obtained through an iterative and experimental process by means of an artificial neural network with backpropagation update rules. Although this approach nowadays lacks of novelty, its main contribution relies on its application on a line follower robot implemented with a development board, enhancing reproducibility features and results replication. Finally, performance is evaluated on a closed line circuit of 300 cms of extension, with convergence of the backpropagation algorithm after one lap."
   ]
  },
  {
   "cell_type": "markdown",
   "metadata": {},
   "source": [
    "# [*Solucion al problema* ](PID-NNBackpropagation.ipynb)"
   ]
  }
 ],
 "metadata": {
  "kernelspec": {
   "display_name": "Python 2",
   "language": "python",
   "name": "python2"
  },
  "language_info": {
   "codemirror_mode": {
    "name": "ipython",
    "version": 2
   },
   "file_extension": ".py",
   "mimetype": "text/x-python",
   "name": "python",
   "nbconvert_exporter": "python",
   "pygments_lexer": "ipython2",
   "version": "2.7.15rc1"
  }
 },
 "nbformat": 4,
 "nbformat_minor": 2
}
