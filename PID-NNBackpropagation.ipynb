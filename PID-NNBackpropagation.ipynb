{
 "cells": [
  {
   "cell_type": "markdown",
   "metadata": {},
   "source": [
    "# PID-NNBackpropagation\n",
    "#### Control y modelamiento de PID a travez de redes neuronales con algoritmo Backpropagation"
   ]
  },
  {
   "cell_type": "markdown",
   "metadata": {},
   "source": [
    "## Constantes"
   ]
  },
  {
   "cell_type": "code",
   "execution_count": 2,
   "metadata": {},
   "outputs": [],
   "source": [
    "Kp=10\n",
    "Ki=15\n",
    "Kd=20\n",
    "error_p=error_i=error_d=0"
   ]
  },
  {
   "cell_type": "markdown",
   "metadata": {},
   "source": [
    "#### Neurona"
   ]
  },
  {
   "cell_type": "code",
   "execution_count": 3,
   "metadata": {},
   "outputs": [],
   "source": [
    "class NEURONA:\n",
    "    def __init__(self,cant,nmbr,ide):\n",
    "        self.peso = cant\n",
    "        self.nombre = nmbr\n",
    "        self.id=ide\n",
    "        self.anterior=[]\n",
    "        self.siguiente=[]\n",
    "    def __conexionAnterior__(self,neurona_Anterior=list()):\n",
    "        self.anterior = neurona_Anterior\n",
    "    def __conexionSiguiente__(self,neurona_Siguiente=list()):\n",
    "        self.siguiente = neurona_Siguiente\n",
    "    def __getConexionSiguiente__(self):\n",
    "        return self.siguiente\n",
    "    def __getPeso__(self):\n",
    "        return self.peso\n",
    "    def __cambiarPeso__(self,valor):\n",
    "        self.peso =valor\n",
    "    def __activacion__(self):\n",
    "        self.peso=0   \n",
    "    def __str__(self):\n",
    "        return \"Id:{2}\\nNombre:{1}\\nPeso:{0}\".format(self.peso,self.nombre,self.id)\n"
   ]
  },
  {
   "cell_type": "markdown",
   "metadata": {},
   "source": [
    "## Red Neuronal\n",
    "### Feed-forward neural networks\n",
    "   * Capa Inicial  dos Neruonas del **Tipo P**\n",
    "   * Sub Capa tres Neuronas del **Tipo P, I, D**\n",
    "   * Salida Neurona del **Tipo P**\n"
   ]
  },
  {
   "cell_type": "code",
   "execution_count": 4,
   "metadata": {},
   "outputs": [],
   "source": [
    "class redNeuronal:\n",
    "    def __init__(self,entrada):\n",
    "        self.red=[[NEURONA(entrada,\"P\",1),NEURONA(Kp,\"P\",2)],[NEURONA(Kp,\"P\",3)\n",
    "        ,NEURONA(Ki,\"I\",4),NEURONA(Kd,\"D\",5)],[NEURONA(Kp,\"P\",6)]]\n",
    "    def __getRed__(self):\n",
    "        return self.red\n",
    "    def __sinapsis__(self):\n",
    "        for i in range(len(self.red)):\n",
    "            for neurona in self.red[i]:\n",
    "                if i+1 <len(self.red):\n",
    "                    conexionesActuales=neurona.__getConexionSiguiente__()\n",
    "                    conexionesFuturas=self.red[i+1]\n",
    "                    for j in range(len(conexionesFuturas)):\n",
    "                        #evalua el peso de las conexiones\n",
    "                        conexion=[conexionesFuturas[j],evaluarSinapsis(neurona.__getPeso__())]\n",
    "                        conexionesActuales.append(conexion)\n",
    "                    neurona.__conexionSiguiente__(conexionesActuales)\n",
    "                else:\n",
    "                    neurona.__conexionSiguiente__([])"
   ]
  },
  {
   "cell_type": "markdown",
   "metadata": {},
   "source": [
    "# Funciones"
   ]
  },
  {
   "cell_type": "code",
   "execution_count": 5,
   "metadata": {},
   "outputs": [],
   "source": [
    "\"\"\"\n",
    "Neuronas\n",
    "    conexion de entrada ponderada por los pesos, se evalua en la funcion de activacion \n",
    "\"\"\"\n",
    "def activacion(x):\n",
    "    #POR DEFINIR\n",
    "    return  x*0.05\n",
    "def evaluarSinapsis(x):\n",
    "    #POR DEFINIR\n",
    "    return x*0.3\n",
    "def mostrarRed(conexiones):\n",
    "    for i in range(len(conexiones)):\n",
    "        print \"########################Capa\"+str(i+1)+\"####################\"\n",
    "        for neurona in conexiones[i]:\n",
    "            print neurona.__str__()\n",
    "            if len(neurona.__getConexionSiguiente__()) != 0:\n",
    "                print \"Tengo sinapsis con:\"\n",
    "                siguientes=neurona.__getConexionSiguiente__()\n",
    "                for j in range(len(siguientes)):\n",
    "                    for valor in siguientes[j]:\n",
    "                        if isinstance(valor, NEURONA):\n",
    "                            print valor.__str__()\n",
    "                        else:\n",
    "                            print \"Valor de Conexion:\"+str(valor)+\"\\n\"\n",
    "                print \"____________________________________________________\\n\"  \n",
    "    "
   ]
  },
  {
   "cell_type": "markdown",
   "metadata": {},
   "source": [
    "# PRUEBA DE NEURONAS"
   ]
  },
  {
   "cell_type": "code",
   "execution_count": 6,
   "metadata": {},
   "outputs": [
    {
     "name": "stdout",
     "output_type": "stream",
     "text": [
      "Id:1\n",
      "Nombre:I\n",
      "Peso:5\n"
     ]
    }
   ],
   "source": [
    "neu2=NEURONA(5,\"I\",1)\n",
    "print neu2.__str__()\n"
   ]
  },
  {
   "cell_type": "markdown",
   "metadata": {},
   "source": [
    "## Prueba de red Neuronal"
   ]
  },
  {
   "cell_type": "code",
   "execution_count": 7,
   "metadata": {},
   "outputs": [
    {
     "name": "stdout",
     "output_type": "stream",
     "text": [
      "########################Capa1####################\n",
      "Id:1\n",
      "Nombre:P\n",
      "Peso:5\n",
      "Tengo sinapsis con:\n",
      "Id:3\n",
      "Nombre:P\n",
      "Peso:10\n",
      "Valor de Conexion:1.5\n",
      "\n",
      "Id:4\n",
      "Nombre:I\n",
      "Peso:15\n",
      "Valor de Conexion:1.5\n",
      "\n",
      "Id:5\n",
      "Nombre:D\n",
      "Peso:20\n",
      "Valor de Conexion:1.5\n",
      "\n",
      "____________________________________________________\n",
      "\n",
      "Id:2\n",
      "Nombre:P\n",
      "Peso:10\n",
      "Tengo sinapsis con:\n",
      "Id:3\n",
      "Nombre:P\n",
      "Peso:10\n",
      "Valor de Conexion:3.0\n",
      "\n",
      "Id:4\n",
      "Nombre:I\n",
      "Peso:15\n",
      "Valor de Conexion:3.0\n",
      "\n",
      "Id:5\n",
      "Nombre:D\n",
      "Peso:20\n",
      "Valor de Conexion:3.0\n",
      "\n",
      "____________________________________________________\n",
      "\n",
      "########################Capa2####################\n",
      "Id:3\n",
      "Nombre:P\n",
      "Peso:10\n",
      "Tengo sinapsis con:\n",
      "Id:6\n",
      "Nombre:P\n",
      "Peso:10\n",
      "Valor de Conexion:3.0\n",
      "\n",
      "____________________________________________________\n",
      "\n",
      "Id:4\n",
      "Nombre:I\n",
      "Peso:15\n",
      "Tengo sinapsis con:\n",
      "Id:6\n",
      "Nombre:P\n",
      "Peso:10\n",
      "Valor de Conexion:4.5\n",
      "\n",
      "____________________________________________________\n",
      "\n",
      "Id:5\n",
      "Nombre:D\n",
      "Peso:20\n",
      "Tengo sinapsis con:\n",
      "Id:6\n",
      "Nombre:P\n",
      "Peso:10\n",
      "Valor de Conexion:6.0\n",
      "\n",
      "____________________________________________________\n",
      "\n",
      "########################Capa3####################\n",
      "Id:6\n",
      "Nombre:P\n",
      "Peso:10\n"
     ]
    }
   ],
   "source": [
    "redN=redNeuronal(5)\n",
    "redN.__sinapsis__()\n",
    "conexiones=redN.__getRed__()\n",
    "#composicion de la red\n",
    "\n",
    "mostrarRed(conexiones)   \n"
   ]
  }
 ],
 "metadata": {
  "kernelspec": {
   "display_name": "Python 2",
   "language": "python",
   "name": "python2"
  },
  "language_info": {
   "codemirror_mode": {
    "name": "ipython",
    "version": 2
   },
   "file_extension": ".py",
   "mimetype": "text/x-python",
   "name": "python",
   "nbconvert_exporter": "python",
   "pygments_lexer": "ipython2",
   "version": "2.7.15rc1"
  }
 },
 "nbformat": 4,
 "nbformat_minor": 2
}
