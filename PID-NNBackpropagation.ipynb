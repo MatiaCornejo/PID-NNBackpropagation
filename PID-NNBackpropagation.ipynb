{
 "cells": [
  {
   "cell_type": "markdown",
   "metadata": {},
   "source": [
    "# PID-NNBackpropagation\n",
    "#### Control y modelamiento de PID a travez de redes neuronales con algoritmo Backpropagation"
   ]
  },
  {
   "cell_type": "markdown",
   "metadata": {},
   "source": [
    "#### Neurona"
   ]
  },
  {
   "cell_type": "code",
   "execution_count": 1,
   "metadata": {},
   "outputs": [],
   "source": [
    "class neurona:\n",
    "    def __init__(self,cant,nmbr):\n",
    "        self.peso = cant\n",
    "        self.nombre = nmbr\n",
    "    def __conexionAnterior__(self,neurona):\n",
    "        self.anterior = neurona\n",
    "    def __conexionSiguiente__(self,neurona):\n",
    "        self.siguiente = neurona\n",
    "    def __cambiarPeso__(self,valor):\n",
    "        self.peso =valor    \n",
    "    def __str__(self):\n",
    "        return \"Mi Nombre es {0}\\nConexion Anterior {1}\\nMi Peso es {2}\".format(self.nombre,self.anterior.nombre,self.peso)\n"
   ]
  },
  {
   "cell_type": "markdown",
   "metadata": {},
   "source": [
    "#### Red Neuronal"
   ]
  },
  {
   "cell_type": "code",
   "execution_count": 2,
   "metadata": {},
   "outputs": [],
   "source": [
    "class red:\n",
    "    def __init__(self,cant):\n",
    "        self.neuralnetwork=0\n",
    "        #definir cantidad de neuronas que participaran en la red"
   ]
  },
  {
   "cell_type": "markdown",
   "metadata": {},
   "source": [
    "# PRUEBA DE NEURONAS"
   ]
  },
  {
   "cell_type": "code",
   "execution_count": 3,
   "metadata": {},
   "outputs": [
    {
     "name": "stdout",
     "output_type": "stream",
     "text": [
      "Mi Nombre es I\n",
      "Conexion Anterior P\n",
      "Mi Peso es 3\n"
     ]
    }
   ],
   "source": [
    "neu=neurona(3,\"P\")\n",
    "neu2=neurona(3,\"I\")\n",
    "neu2.__conexionAnterior__(neu)\n",
    "print neu2.__str__()\n"
   ]
  }
 ],
 "metadata": {
  "kernelspec": {
   "display_name": "Python 2",
   "language": "python",
   "name": "python2"
  },
  "language_info": {
   "codemirror_mode": {
    "name": "ipython",
    "version": 2
   },
   "file_extension": ".py",
   "mimetype": "text/x-python",
   "name": "python",
   "nbconvert_exporter": "python",
   "pygments_lexer": "ipython2",
   "version": "2.7.15rc1"
  }
 },
 "nbformat": 4,
 "nbformat_minor": 2
}
